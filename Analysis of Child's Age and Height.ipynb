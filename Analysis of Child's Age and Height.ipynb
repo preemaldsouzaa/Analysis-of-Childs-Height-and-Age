{
 "cells": [
  {
   "cell_type": "markdown",
   "metadata": {
    "id": "25HIFzVh8P2h"
   },
   "source": [
    "# ANALYSIS OF CHILD'S AGE AND HEIGHT"
   ]
  },
  {
   "cell_type": "code",
   "execution_count": 47,
   "metadata": {
    "colab": {
     "base_uri": "https://localhost:8080/",
     "height": 73
    },
    "id": "LZ1j4d4RA834",
    "outputId": "6dfe12cb-c9de-4284-bb99-69a593e4fbf4"
   },
   "outputs": [],
   "source": [
    "import numpy as np\n",
    "import pandas as pd\n",
    "import matplotlib.pyplot as plt\n",
    "%matplotlib inline"
   ]
  },
  {
   "cell_type": "code",
   "execution_count": 48,
   "metadata": {
    "colab": {
     "base_uri": "https://localhost:8080/",
     "height": 206
    },
    "id": "DAOlvDs2BAgC",
    "outputId": "474e85d1-520a-4c14-e2d4-181b29ffc072"
   },
   "outputs": [
    {
     "data": {
      "text/html": [
       "<div>\n",
       "<style scoped>\n",
       "    .dataframe tbody tr th:only-of-type {\n",
       "        vertical-align: middle;\n",
       "    }\n",
       "\n",
       "    .dataframe tbody tr th {\n",
       "        vertical-align: top;\n",
       "    }\n",
       "\n",
       "    .dataframe thead th {\n",
       "        text-align: right;\n",
       "    }\n",
       "</style>\n",
       "<table border=\"1\" class=\"dataframe\">\n",
       "  <thead>\n",
       "    <tr style=\"text-align: right;\">\n",
       "      <th></th>\n",
       "      <th>Timestamp</th>\n",
       "      <th>Name of the child / adult</th>\n",
       "      <th>Gender of the child / adult</th>\n",
       "      <th>Age in years</th>\n",
       "      <th>Height in inches</th>\n",
       "      <th>Weight in kilograms (kgs)</th>\n",
       "      <th>Comments</th>\n",
       "    </tr>\n",
       "  </thead>\n",
       "  <tbody>\n",
       "    <tr>\n",
       "      <th>0</th>\n",
       "      <td>15/03/2023 16:53:31</td>\n",
       "      <td>Ravi Jha</td>\n",
       "      <td>Male</td>\n",
       "      <td>15</td>\n",
       "      <td>60</td>\n",
       "      <td>45</td>\n",
       "      <td>NaN</td>\n",
       "    </tr>\n",
       "    <tr>\n",
       "      <th>1</th>\n",
       "      <td>15/03/2023 16:54:57</td>\n",
       "      <td>Alok Mahajan</td>\n",
       "      <td>Male</td>\n",
       "      <td>3</td>\n",
       "      <td>36</td>\n",
       "      <td>7</td>\n",
       "      <td>NaN</td>\n",
       "    </tr>\n",
       "    <tr>\n",
       "      <th>2</th>\n",
       "      <td>15/03/2023 16:55:17</td>\n",
       "      <td>Nirmal Roy</td>\n",
       "      <td>Male</td>\n",
       "      <td>7</td>\n",
       "      <td>47</td>\n",
       "      <td>22</td>\n",
       "      <td>NaN</td>\n",
       "    </tr>\n",
       "    <tr>\n",
       "      <th>3</th>\n",
       "      <td>15/03/2023 16:56:19</td>\n",
       "      <td>Bipin Shah</td>\n",
       "      <td>Male</td>\n",
       "      <td>2</td>\n",
       "      <td>29</td>\n",
       "      <td>8</td>\n",
       "      <td>NaN</td>\n",
       "    </tr>\n",
       "    <tr>\n",
       "      <th>4</th>\n",
       "      <td>15/03/2023 16:56:36</td>\n",
       "      <td>Manish Sharma</td>\n",
       "      <td>Male</td>\n",
       "      <td>17</td>\n",
       "      <td>68</td>\n",
       "      <td>49</td>\n",
       "      <td>NaN</td>\n",
       "    </tr>\n",
       "  </tbody>\n",
       "</table>\n",
       "</div>"
      ],
      "text/plain": [
       "             Timestamp Name of the child / adult Gender of the child / adult  \\\n",
       "0  15/03/2023 16:53:31                  Ravi Jha                        Male   \n",
       "1  15/03/2023 16:54:57              Alok Mahajan                        Male   \n",
       "2  15/03/2023 16:55:17                Nirmal Roy                        Male   \n",
       "3  15/03/2023 16:56:19                Bipin Shah                        Male   \n",
       "4  15/03/2023 16:56:36             Manish Sharma                        Male   \n",
       "\n",
       "   Age in years  Height in inches  Weight in kilograms (kgs)  Comments  \n",
       "0            15                60                         45       NaN  \n",
       "1             3                36                          7       NaN  \n",
       "2             7                47                         22       NaN  \n",
       "3             2                29                          8       NaN  \n",
       "4            17                68                         49       NaN  "
      ]
     },
     "execution_count": 48,
     "metadata": {},
     "output_type": "execute_result"
    }
   ],
   "source": [
    "data=pd.read_csv(\"Contact Information (Responses) - Form responses 1 (1).csv\")\n",
    "data.head()"
   ]
  },
  {
   "cell_type": "code",
   "execution_count": 49,
   "metadata": {
    "colab": {
     "base_uri": "https://localhost:8080/"
    },
    "id": "w5_gpW1O2uuD",
    "outputId": "e9862d4b-03a9-4f95-d419-23b8b21cd61a"
   },
   "outputs": [
    {
     "name": "stdout",
     "output_type": "stream",
     "text": [
      "              Timestamp Name of the child / adult Gender of the child / adult  \\\n",
      "0   15/03/2023 16:53:31                  Ravi Jha                        Male   \n",
      "1   15/03/2023 16:54:57              Alok Mahajan                        Male   \n",
      "2   15/03/2023 16:55:17                Nirmal Roy                        Male   \n",
      "3   15/03/2023 16:56:19                Bipin Shah                        Male   \n",
      "4   15/03/2023 16:56:36             Manish Sharma                        Male   \n",
      "..                  ...                       ...                         ...   \n",
      "95  15/03/2023 17:35:41                Amit Powar                        Male   \n",
      "96  15/03/2023 17:35:54              GAURAV SHAH                         Male   \n",
      "97  15/03/2023 17:36:16            SAMADHAN PATIL                        Male   \n",
      "98  15/03/2023 17:36:32           Shankar Narayan                        Male   \n",
      "99  15/03/2023 17:36:50                Tejaswaini                      Female   \n",
      "\n",
      "    Age in years  Height in inches  Weight in kilograms (kgs)  Comments  \n",
      "0             15                60                         45       NaN  \n",
      "1              3                36                          7       NaN  \n",
      "2              7                47                         22       NaN  \n",
      "3              2                29                          8       NaN  \n",
      "4             17                68                         49       NaN  \n",
      "..           ...               ...                        ...       ...  \n",
      "95             7                47                         25       NaN  \n",
      "96             6                39                         14       NaN  \n",
      "97             3                33                         10       NaN  \n",
      "98             6                41                         15       NaN  \n",
      "99            13                55                         42       NaN  \n",
      "\n",
      "[100 rows x 7 columns]\n"
     ]
    }
   ],
   "source": [
    "df=pd.DataFrame(data)\n",
    "print(df)"
   ]
  },
  {
   "cell_type": "markdown",
   "metadata": {
    "id": "Yn-I3Hoq80YL"
   },
   "source": [
    "### **DATA CLEANING:**"
   ]
  },
  {
   "cell_type": "markdown",
   "metadata": {
    "id": "gPLaSpl68x6_"
   },
   "source": [
    "Data cleaning is an important step in any data analysis, as it helps to ensure that the data is accurate and reliable. Removing values below 0 in a child's height analysis is an appropriate step, as it is not possible for a child to have a negative or zero height.\n",
    "\n",
    "When cleaning data, we tried identify the reasons why there might be negative values in the data. In some cases, negative values may be due to measurement errors or data entry errors, while in other cases, they may be due to incorrect data provided by the user or other issues."
   ]
  },
  {
   "cell_type": "code",
   "execution_count": 50,
   "metadata": {
    "colab": {
     "base_uri": "https://localhost:8080/"
    },
    "id": "nPq7Co_17xoF",
    "outputId": "518f685e-f96c-431d-c328-27061f85d849"
   },
   "outputs": [
    {
     "name": "stdout",
     "output_type": "stream",
     "text": [
      "              Timestamp Name of the child / adult Gender of the child / adult  \\\n",
      "0   15/03/2023 16:53:31                  Ravi Jha                        Male   \n",
      "1   15/03/2023 16:54:57              Alok Mahajan                        Male   \n",
      "2   15/03/2023 16:55:17                Nirmal Roy                        Male   \n",
      "3   15/03/2023 16:56:19                Bipin Shah                        Male   \n",
      "4   15/03/2023 16:56:36             Manish Sharma                        Male   \n",
      "..                  ...                       ...                         ...   \n",
      "95  15/03/2023 17:35:41                Amit Powar                        Male   \n",
      "96  15/03/2023 17:35:54              GAURAV SHAH                         Male   \n",
      "97  15/03/2023 17:36:16            SAMADHAN PATIL                        Male   \n",
      "98  15/03/2023 17:36:32           Shankar Narayan                        Male   \n",
      "99  15/03/2023 17:36:50                Tejaswaini                      Female   \n",
      "\n",
      "    Age in years  Height in inches  Weight in kilograms (kgs)  Comments  \n",
      "0             15                60                         45       NaN  \n",
      "1              3                36                          7       NaN  \n",
      "2              7                47                         22       NaN  \n",
      "3              2                29                          8       NaN  \n",
      "4             17                68                         49       NaN  \n",
      "..           ...               ...                        ...       ...  \n",
      "95             7                47                         25       NaN  \n",
      "96             6                39                         14       NaN  \n",
      "97             3                33                         10       NaN  \n",
      "98             6                41                         15       NaN  \n",
      "99            13                55                         42       NaN  \n",
      "\n",
      "[100 rows x 7 columns]\n"
     ]
    }
   ],
   "source": [
    "df = pd.read_csv('Contact Information (Responses) - Form responses 1 (1).csv')\n",
    "df = df.drop_duplicates(keep='first')\n",
    "print(df)"
   ]
  },
  {
   "cell_type": "code",
   "execution_count": 51,
   "metadata": {
    "colab": {
     "base_uri": "https://localhost:8080/"
    },
    "id": "wfB5xgRZ75EW",
    "outputId": "4bf0c9d9-5635-4121-eecf-6fbbd55f40b6"
   },
   "outputs": [
    {
     "name": "stdout",
     "output_type": "stream",
     "text": [
      "              Timestamp Name of the child / adult Gender of the child / adult  \\\n",
      "0   15/03/2023 16:53:31                  Ravi Jha                        Male   \n",
      "1   15/03/2023 16:54:57              Alok Mahajan                        Male   \n",
      "2   15/03/2023 16:55:17                Nirmal Roy                        Male   \n",
      "3   15/03/2023 16:56:19                Bipin Shah                        Male   \n",
      "4   15/03/2023 16:56:36             Manish Sharma                        Male   \n",
      "..                  ...                       ...                         ...   \n",
      "95  15/03/2023 17:35:41                Amit Powar                        Male   \n",
      "96  15/03/2023 17:35:54              GAURAV SHAH                         Male   \n",
      "97  15/03/2023 17:36:16            SAMADHAN PATIL                        Male   \n",
      "98  15/03/2023 17:36:32           Shankar Narayan                        Male   \n",
      "99  15/03/2023 17:36:50                Tejaswaini                      Female   \n",
      "\n",
      "    Age in years  Height in inches  Weight in kilograms (kgs)  Comments  \n",
      "0             15                60                         45       NaN  \n",
      "1              3                36                          7       NaN  \n",
      "2              7                47                         22       NaN  \n",
      "3              2                29                          8       NaN  \n",
      "4             17                68                         49       NaN  \n",
      "..           ...               ...                        ...       ...  \n",
      "95             7                47                         25       NaN  \n",
      "96             6                39                         14       NaN  \n",
      "97             3                33                         10       NaN  \n",
      "98             6                41                         15       NaN  \n",
      "99            13                55                         42       NaN  \n",
      "\n",
      "[92 rows x 7 columns]\n"
     ]
    }
   ],
   "source": [
    "cleaned_data=df[df['Age in years'] > 0]\n",
    "print(cleaned_data)"
   ]
  },
  {
   "cell_type": "markdown",
   "metadata": {},
   "source": [
    "### EDA:"
   ]
  },
  {
   "cell_type": "code",
   "execution_count": 53,
   "metadata": {
    "scrolled": true
   },
   "outputs": [
    {
     "data": {
      "image/png": "[encoded data removed]",
      "text/plain": [
       "<Figure size 2000x600 with 1 Axes>"
      ]
     },
     "metadata": {},
     "output_type": "display_data"
    }
   ],
   "source": [
    "#Age distribution\n",
    "plt.figure(figsize=(20, 6))\n",
    "plt.hist(data['Age in years'], bins=10, color='skyblue')\n",
    "plt.xlabel('Age')\n",
    "plt.ylabel('Frequency')\n",
    "plt.title('Age Distribution')\n",
    "plt.show()"
   ]
  },
  {
   "cell_type": "code",
   "execution_count": 54,
   "metadata": {},
   "outputs": [
    {
     "data": {
      "image/png": "[encoded data removed]",
      "text/plain": [
       "<Figure size 800x600 with 1 Axes>"
      ]
     },
     "metadata": {},
     "output_type": "display_data"
    }
   ],
   "source": [
    "#Gender distribution\n",
    "gender_counts = data['Gender of the child / adult'].value_counts()\n",
    "plt.figure(figsize=(8, 6))\n",
    "plt.bar(gender_counts.index, gender_counts.values, color='purple')\n",
    "plt.xlabel('Gender')\n",
    "plt.ylabel('Count')\n",
    "plt.title('Gender Distribution')\n",
    "plt.show()"
   ]
  },
  {
   "cell_type": "code",
   "execution_count": 55,
   "metadata": {},
   "outputs": [
    {
     "data": {
      "image/png": "[encoded data removed]",
      "text/plain": [
       "<Figure size 1000x600 with 1 Axes>"
      ]
     },
     "metadata": {},
     "output_type": "display_data"
    }
   ],
   "source": [
    "#Weight distribution\n",
    "plt.figure(figsize=(10, 6))\n",
    "plt.hist(data['Weight in kilograms (kgs)'], bins=20, color='orange')\n",
    "plt.xlabel('Weight (kgs)')\n",
    "plt.ylabel('Frequency')\n",
    "plt.title('Weight Distribution')\n",
    "plt.show()"
   ]
  },
  {
   "cell_type": "markdown",
   "metadata": {},
   "source": [
    "### Feature Engineering:\n",
    "We will be using the DataFrame [cleaned_data] to select two columns, namely 'Age in years' and 'Height in inches'. This step involves feature selection, where only these specific columns are extracted from the original dataset for further analysis. The resulting data DataFrame focuses on these two features, which can potentially be used for modeling or analysis purposes."
   ]
  },
  {
   "cell_type": "code",
   "execution_count": 8,
   "metadata": {
    "colab": {
     "base_uri": "https://localhost:8080/",
     "height": 423
    },
    "id": "BA1jvnywAL5i",
    "outputId": "b01e39cf-db82-4949-b10d-d25bb7a4e75d"
   },
   "outputs": [
    {
     "data": {
      "text/html": [
       "<div>\n",
       "<style scoped>\n",
       "    .dataframe tbody tr th:only-of-type {\n",
       "        vertical-align: middle;\n",
       "    }\n",
       "\n",
       "    .dataframe tbody tr th {\n",
       "        vertical-align: top;\n",
       "    }\n",
       "\n",
       "    .dataframe thead th {\n",
       "        text-align: right;\n",
       "    }\n",
       "</style>\n",
       "<table border=\"1\" class=\"dataframe\">\n",
       "  <thead>\n",
       "    <tr style=\"text-align: right;\">\n",
       "      <th></th>\n",
       "      <th>Age in years</th>\n",
       "      <th>Height in inches</th>\n",
       "    </tr>\n",
       "  </thead>\n",
       "  <tbody>\n",
       "    <tr>\n",
       "      <th>0</th>\n",
       "      <td>15</td>\n",
       "      <td>60</td>\n",
       "    </tr>\n",
       "    <tr>\n",
       "      <th>1</th>\n",
       "      <td>3</td>\n",
       "      <td>36</td>\n",
       "    </tr>\n",
       "    <tr>\n",
       "      <th>2</th>\n",
       "      <td>7</td>\n",
       "      <td>47</td>\n",
       "    </tr>\n",
       "    <tr>\n",
       "      <th>3</th>\n",
       "      <td>2</td>\n",
       "      <td>29</td>\n",
       "    </tr>\n",
       "    <tr>\n",
       "      <th>4</th>\n",
       "      <td>17</td>\n",
       "      <td>68</td>\n",
       "    </tr>\n",
       "    <tr>\n",
       "      <th>...</th>\n",
       "      <td>...</td>\n",
       "      <td>...</td>\n",
       "    </tr>\n",
       "    <tr>\n",
       "      <th>95</th>\n",
       "      <td>7</td>\n",
       "      <td>47</td>\n",
       "    </tr>\n",
       "    <tr>\n",
       "      <th>96</th>\n",
       "      <td>6</td>\n",
       "      <td>39</td>\n",
       "    </tr>\n",
       "    <tr>\n",
       "      <th>97</th>\n",
       "      <td>3</td>\n",
       "      <td>33</td>\n",
       "    </tr>\n",
       "    <tr>\n",
       "      <th>98</th>\n",
       "      <td>6</td>\n",
       "      <td>41</td>\n",
       "    </tr>\n",
       "    <tr>\n",
       "      <th>99</th>\n",
       "      <td>13</td>\n",
       "      <td>55</td>\n",
       "    </tr>\n",
       "  </tbody>\n",
       "</table>\n",
       "<p>92 rows × 2 columns</p>\n",
       "</div>"
      ],
      "text/plain": [
       "    Age in years  Height in inches\n",
       "0             15                60\n",
       "1              3                36\n",
       "2              7                47\n",
       "3              2                29\n",
       "4             17                68\n",
       "..           ...               ...\n",
       "95             7                47\n",
       "96             6                39\n",
       "97             3                33\n",
       "98             6                41\n",
       "99            13                55\n",
       "\n",
       "[92 rows x 2 columns]"
      ]
     },
     "execution_count": 8,
     "metadata": {},
     "output_type": "execute_result"
    }
   ],
   "source": [
    "data=cleaned_data[['Age in years','Height in inches']]\n",
    "data"
   ]
  },
  {
   "cell_type": "markdown",
   "metadata": {
    "id": "Rc-Wv_o49F4m"
   },
   "source": [
    "## Plotting the Data:"
   ]
  },
  {
   "cell_type": "markdown",
   "metadata": {
    "id": "tCST7lDM9C3C"
   },
   "source": [
    "To plot the data of height and age for a this analysis, we have used a scatter plot, where the height of the child is plotted on the y-axis and the age of the child is plotted on the x-axis. Here is the Visualization scatter plot in Python using the Matplotlib library:\n",
    "\n",
    "This will create a scatter plot of the child's height against their age, with age on the x-axis and height on the y-axis. The x-axis will be labeled as \"Age (years)\" and the y-axis will be labeled as \"Height (cm)\".\n",
    "The title of the plot will be \"Age vs Height\"."
   ]
  },
  {
   "cell_type": "code",
   "execution_count": 9,
   "metadata": {
    "colab": {
     "base_uri": "https://localhost:8080/",
     "height": 552
    },
    "id": "L48bj15INR7p",
    "outputId": "9bdfdcb9-23db-4adb-c426-b47b8824ce06"
   },
   "outputs": [
    {
     "data": {
      "text/plain": [
       "<Axes: xlabel='Age in years', ylabel='Height in inches'>"
      ]
     },
     "execution_count": 9,
     "metadata": {},
     "output_type": "execute_result"
    },
    {
     "data": {
      "image/png": "[encoded data removed]",
      "text/plain": [
       "<Figure size 640x480 with 1 Axes>"
      ]
     },
     "metadata": {},
     "output_type": "display_data"
    }
   ],
   "source": [
    "df.plot(kind=\"scatter\",x='Age in years',y='Height in inches')"
   ]
  },
  {
   "cell_type": "markdown",
   "metadata": {
    "id": "gDPsXGvH9NT9"
   },
   "source": [
    "### **Pearson's Coefficient:**"
   ]
  },
  {
   "cell_type": "markdown",
   "metadata": {
    "id": "Llb_TLuy9SmG"
   },
   "source": [
    "Pearson's coefficient, also known as the Pearson correlation coefficient, is a statistical measure that describes the strength and direction of the linear relationship between two variables. It is denoted by the symbol \"r\" and can range from -1 to 1.\n",
    "\n",
    "In child height analysis, Pearson's coefficient can be used to measure the strength and direction of the linear relationship between a child's age and height. A positive Pearson's coefficient indicates that there is a positive linear relationship between age and height, meaning that as age increases, height tends to increase as well. A negative Pearson's coefficient would indicate the opposite relationship, where height decreases as age increases."
   ]
  },
  {
   "cell_type": "code",
   "execution_count": 10,
   "metadata": {
    "colab": {
     "base_uri": "https://localhost:8080/",
     "height": 505
    },
    "id": "WYiiT-h0Nb6E",
    "outputId": "ccebcc1b-a263-46ab-d6ec-eefc364d41f4",
    "scrolled": true
   },
   "outputs": [
    {
     "data": {
      "image/png": "[encoded data removed]",
      "text/plain": [
       "<Figure size 600x600 with 2 Axes>"
      ]
     },
     "metadata": {},
     "output_type": "display_data"
    }
   ],
   "source": [
    "import seaborn as sns\n",
    "cols=['Age in years','Height in inches']\n",
    "from sklearn.preprocessing import StandardScaler\n",
    "stdsc=StandardScaler()\n",
    "x_std=stdsc.fit_transform(df[cols].iloc[:,range(0,2)].values)\n",
    "cov_mat=np.cov(x_std.T)\n",
    "plt.figure(figsize=(6,6))\n",
    "sns.set(font_scale=1.5)\n",
    "hm=sns.heatmap(cov_mat,cbar=True,annot=True,square=True,fmt='.1f',yticklabels=cols,xticklabels=cols)\n",
    "plt.show()"
   ]
  },
  {
   "cell_type": "markdown",
   "metadata": {
    "id": "sBG7ky5g989b"
   },
   "source": [
    "### **Linear Regression:**"
   ]
  },
  {
   "cell_type": "markdown",
   "metadata": {
    "id": "39ykyxHv-ET-"
   },
   "source": [
    "Linear regression is a statistical method used to model the relationship between two variables by fitting a linear equation to the observed data. In child height analysis, linear regression can be used to analyze the relationship between a child's age and their height. The linear regression model would then attempt to fit a straight line to the data that best describes the relationship between age and height.\n",
    "\n",
    "Once the model is fit to the data, you can use it to predict the height of a child based on their age. Additionally, the slope of the regression line can be used to determine the rate of change in height per unit of age, providing insights into the child's growth and development."
   ]
  },
  {
   "cell_type": "markdown",
   "metadata": {
    "id": "oGys0hFfQU0q"
   },
   "source": [
    "### **TRAIN_TEST_SPLIT**\n",
    "\n",
    "The train_test_split() function is a method provided by the sklearn (scikit-learn) Python library for splitting a dataset into training and testing subsets.In this dataset, the train_test_split() function is used to split the data into training and testing subsets, where 70% of the data is used for training and 30% is used for testing."
   ]
  },
  {
   "cell_type": "code",
   "execution_count": 11,
   "metadata": {
    "id": "VSU_APv6o1q1"
   },
   "outputs": [],
   "source": [
    "x=data['Age in years']\n",
    "y=data['Height in inches']"
   ]
  },
  {
   "cell_type": "code",
   "execution_count": 13,
   "metadata": {
    "colab": {
     "base_uri": "https://localhost:8080/"
    },
    "id": "W3CBp_c4pVZM",
    "outputId": "19ab5348-5a80-48b8-ae95-9392227a44cc"
   },
   "outputs": [
    {
     "data": {
      "text/plain": [
       "48    11\n",
       "84     7\n",
       "23    17\n",
       "90    14\n",
       "38    15\n",
       "      ..\n",
       "86    17\n",
       "95     7\n",
       "74    17\n",
       "27    16\n",
       "8      7\n",
       "Name: Age in years, Length: 64, dtype: int64"
      ]
     },
     "execution_count": 13,
     "metadata": {},
     "output_type": "execute_result"
    }
   ],
   "source": [
    "from sklearn.model_selection import train_test_split\n",
    "x_train,x_test,y_train,y_test=train_test_split(x,y,train_size=0.7,test_size=0.3,random_state=100)\n",
    "x_train"
   ]
  },
  {
   "cell_type": "code",
   "execution_count": 14,
   "metadata": {
    "colab": {
     "base_uri": "https://localhost:8080/"
    },
    "id": "WIfFaXjzqmhG",
    "outputId": "7eec5cc9-553f-41ce-b505-ce247734b8c9"
   },
   "outputs": [
    {
     "data": {
      "text/plain": [
       "48    52\n",
       "84    41\n",
       "23    64\n",
       "90    56\n",
       "38    59\n",
       "      ..\n",
       "86    64\n",
       "95    47\n",
       "74    63\n",
       "27    60\n",
       "8     45\n",
       "Name: Height in inches, Length: 64, dtype: int64"
      ]
     },
     "execution_count": 14,
     "metadata": {},
     "output_type": "execute_result"
    }
   ],
   "source": [
    "y_train"
   ]
  },
  {
   "cell_type": "code",
   "execution_count": 15,
   "metadata": {
    "colab": {
     "base_uri": "https://localhost:8080/"
    },
    "id": "D-QpPAM_qq-w",
    "outputId": "6f4ccfb0-f66f-459d-a3c4-47f66e4b1a9b"
   },
   "outputs": [
    {
     "data": {
      "text/plain": [
       "64    14\n",
       "69    12\n",
       "29    16\n",
       "33    10\n",
       "49    16\n",
       "63     9\n",
       "40     5\n",
       "50     1\n",
       "24    10\n",
       "83     8\n",
       "5      5\n",
       "37     5\n",
       "11    15\n",
       "89    18\n",
       "32     2\n",
       "81    11\n",
       "41     9\n",
       "77    10\n",
       "96     6\n",
       "85     6\n",
       "22    10\n",
       "26     6\n",
       "6      9\n",
       "3      2\n",
       "46     1\n",
       "12    15\n",
       "28     3\n",
       "42     5\n",
       "Name: Age in years, dtype: int64"
      ]
     },
     "execution_count": 15,
     "metadata": {},
     "output_type": "execute_result"
    }
   ],
   "source": [
    "x_test"
   ]
  },
  {
   "cell_type": "code",
   "execution_count": 16,
   "metadata": {
    "colab": {
     "base_uri": "https://localhost:8080/"
    },
    "id": "9rzDASh-PSGm",
    "outputId": "e5471355-249c-4a84-8067-2706797c0b95"
   },
   "outputs": [
    {
     "data": {
      "text/plain": [
       "64    56\n",
       "69    53\n",
       "29    59\n",
       "33    48\n",
       "49    63\n",
       "63    51\n",
       "40    40\n",
       "50    36\n",
       "24    53\n",
       "83    48\n",
       "5     44\n",
       "37    38\n",
       "11    56\n",
       "89    64\n",
       "32    33\n",
       "81    51\n",
       "41    45\n",
       "77    49\n",
       "96    39\n",
       "85    43\n",
       "22    56\n",
       "26    37\n",
       "6     48\n",
       "3     29\n",
       "46    32\n",
       "12    60\n",
       "28    35\n",
       "42    37\n",
       "Name: Height in inches, dtype: int64"
      ]
     },
     "execution_count": 16,
     "metadata": {},
     "output_type": "execute_result"
    }
   ],
   "source": [
    "y_test"
   ]
  },
  {
   "cell_type": "code",
   "execution_count": 17,
   "metadata": {
    "id": "8bDcSeQ8rI3H"
   },
   "outputs": [],
   "source": [
    "import numpy as np\n",
    "x_train=np.array(x_train).reshape(-1,1)\n",
    "x_test=np.array(x_test).reshape(-1,1)"
   ]
  },
  {
   "cell_type": "code",
   "execution_count": 18,
   "metadata": {
    "colab": {
     "base_uri": "https://localhost:8080/"
    },
    "id": "TYBQNwEQrNQj",
    "outputId": "7ab71f1c-7cb4-4410-80bc-4f7e7bfdaa2d"
   },
   "outputs": [
    {
     "data": {
      "text/plain": [
       "array([[14],\n",
       "       [12],\n",
       "       [16],\n",
       "       [10],\n",
       "       [16],\n",
       "       [ 9],\n",
       "       [ 5],\n",
       "       [ 1],\n",
       "       [10],\n",
       "       [ 8],\n",
       "       [ 5],\n",
       "       [ 5],\n",
       "       [15],\n",
       "       [18],\n",
       "       [ 2],\n",
       "       [11],\n",
       "       [ 9],\n",
       "       [10],\n",
       "       [ 6],\n",
       "       [ 6],\n",
       "       [10],\n",
       "       [ 6],\n",
       "       [ 9],\n",
       "       [ 2],\n",
       "       [ 1],\n",
       "       [15],\n",
       "       [ 3],\n",
       "       [ 5]], dtype=int64)"
      ]
     },
     "execution_count": 18,
     "metadata": {},
     "output_type": "execute_result"
    }
   ],
   "source": [
    "x_test"
   ]
  },
  {
   "cell_type": "code",
   "execution_count": 19,
   "metadata": {
    "colab": {
     "base_uri": "https://localhost:8080/"
    },
    "id": "X-T3ncgIP2n2",
    "outputId": "47eb7c4c-a77b-4b9f-cf08-ededc30ca025"
   },
   "outputs": [
    {
     "name": "stdout",
     "output_type": "stream",
     "text": [
      "(64, 1)\n",
      "(64,)\n"
     ]
    }
   ],
   "source": [
    "#Size of Training Data:\n",
    "print(x_train.shape)\n",
    "print(y_train.shape)"
   ]
  },
  {
   "cell_type": "code",
   "execution_count": 20,
   "metadata": {
    "colab": {
     "base_uri": "https://localhost:8080/"
    },
    "id": "4UQCnVO4P_ha",
    "outputId": "67193e0d-0a58-434c-d36a-48e21b666c1a"
   },
   "outputs": [
    {
     "name": "stdout",
     "output_type": "stream",
     "text": [
      "(28, 1)\n",
      "(28,)\n"
     ]
    }
   ],
   "source": [
    "#Size of Testing Data:\n",
    "print(x_test.shape)\n",
    "print(y_test.shape)"
   ]
  },
  {
   "cell_type": "markdown",
   "metadata": {
    "id": "s8v1farM_KoH"
   },
   "source": [
    "Next, in this code, LinearRegression() is a class from the sklearn (scikit-learn) Python library that represents a linear regression model. The fit() method of the LinearRegression class is then used to train the model on the training data, where x_train is the input features (e.g., child's age) and y_train is the target variable (e.g., child's height).\n",
    "\n",
    "Specifically, lr=LinearRegression() creates an instance of the LinearRegression class and assigns it to the variable lr. Then, lr.fit(x_train,y_train) fits the linear regression model on the training data x_train and y_train."
   ]
  },
  {
   "cell_type": "code",
   "execution_count": 21,
   "metadata": {
    "colab": {
     "base_uri": "https://localhost:8080/",
     "height": 74
    },
    "id": "glvHubWMr5oZ",
    "outputId": "4fbf10dc-dffa-4251-b579-3f8108d8f809"
   },
   "outputs": [
    {
     "data": {
      "text/html": [
       "<style>#sk-container-id-1 {color: black;}#sk-container-id-1 pre{padding: 0;}#sk-container-id-1 div.sk-toggleable {background-color: white;}#sk-container-id-1 label.sk-toggleable__label {cursor: pointer;display: block;width: 100%;margin-bottom: 0;padding: 0.3em;box-sizing: border-box;text-align: center;}#sk-container-id-1 label.sk-toggleable__label-arrow:before {content: \"▸\";float: left;margin-right: 0.25em;color: #696969;}#sk-container-id-1 label.sk-toggleable__label-arrow:hover:before {color: black;}#sk-container-id-1 div.sk-estimator:hover label.sk-toggleable__label-arrow:before {color: black;}#sk-container-id-1 div.sk-toggleable__content {max-height: 0;max-width: 0;overflow: hidden;text-align: left;background-color: #f0f8ff;}#sk-container-id-1 div.sk-toggleable__content pre {margin: 0.2em;color: black;border-radius: 0.25em;background-color: #f0f8ff;}#sk-container-id-1 input.sk-toggleable__control:checked~div.sk-toggleable__content {max-height: 200px;max-width: 100%;overflow: auto;}#sk-container-id-1 input.sk-toggleable__control:checked~label.sk-toggleable__label-arrow:before {content: \"▾\";}#sk-container-id-1 div.sk-estimator input.sk-toggleable__control:checked~label.sk-toggleable__label {background-color: #d4ebff;}#sk-container-id-1 div.sk-label input.sk-toggleable__control:checked~label.sk-toggleable__label {background-color: #d4ebff;}#sk-container-id-1 input.sk-hidden--visually {border: 0;clip: rect(1px 1px 1px 1px);clip: rect(1px, 1px, 1px, 1px);height: 1px;margin: -1px;overflow: hidden;padding: 0;position: absolute;width: 1px;}#sk-container-id-1 div.sk-estimator {font-family: monospace;background-color: #f0f8ff;border: 1px dotted black;border-radius: 0.25em;box-sizing: border-box;margin-bottom: 0.5em;}#sk-container-id-1 div.sk-estimator:hover {background-color: #d4ebff;}#sk-container-id-1 div.sk-parallel-item::after {content: \"\";width: 100%;border-bottom: 1px solid gray;flex-grow: 1;}#sk-container-id-1 div.sk-label:hover label.sk-toggleable__label {background-color: #d4ebff;}#sk-container-id-1 div.sk-serial::before {content: \"\";position: absolute;border-left: 1px solid gray;box-sizing: border-box;top: 0;bottom: 0;left: 50%;z-index: 0;}#sk-container-id-1 div.sk-serial {display: flex;flex-direction: column;align-items: center;background-color: white;padding-right: 0.2em;padding-left: 0.2em;position: relative;}#sk-container-id-1 div.sk-item {position: relative;z-index: 1;}#sk-container-id-1 div.sk-parallel {display: flex;align-items: stretch;justify-content: center;background-color: white;position: relative;}#sk-container-id-1 div.sk-item::before, #sk-container-id-1 div.sk-parallel-item::before {content: \"\";position: absolute;border-left: 1px solid gray;box-sizing: border-box;top: 0;bottom: 0;left: 50%;z-index: -1;}#sk-container-id-1 div.sk-parallel-item {display: flex;flex-direction: column;z-index: 1;position: relative;background-color: white;}#sk-container-id-1 div.sk-parallel-item:first-child::after {align-self: flex-end;width: 50%;}#sk-container-id-1 div.sk-parallel-item:last-child::after {align-self: flex-start;width: 50%;}#sk-container-id-1 div.sk-parallel-item:only-child::after {width: 0;}#sk-container-id-1 div.sk-dashed-wrapped {border: 1px dashed gray;margin: 0 0.4em 0.5em 0.4em;box-sizing: border-box;padding-bottom: 0.4em;background-color: white;}#sk-container-id-1 div.sk-label label {font-family: monospace;font-weight: bold;display: inline-block;line-height: 1.2em;}#sk-container-id-1 div.sk-label-container {text-align: center;}#sk-container-id-1 div.sk-container {/* jupyter's `normalize.less` sets `[hidden] { display: none; }` but bootstrap.min.css set `[hidden] { display: none !important; }` so we also need the `!important` here to be able to override the default hidden behavior on the sphinx rendered scikit-learn.org. See: https://github.com/scikit-learn/scikit-learn/issues/21755 */display: inline-block !important;position: relative;}#sk-container-id-1 div.sk-text-repr-fallback {display: none;}</style><div id=\"sk-container-id-1\" class=\"sk-top-container\"><div class=\"sk-text-repr-fallback\"><pre>LinearRegression()</pre><b>In a Jupyter environment, please rerun this cell to show the HTML representation or trust the notebook. <br />On GitHub, the HTML representation is unable to render, please try loading this page with nbviewer.org.</b></div><div class=\"sk-container\" hidden><div class=\"sk-item\"><div class=\"sk-estimator sk-toggleable\"><input class=\"sk-toggleable__control sk-hidden--visually\" id=\"sk-estimator-id-1\" type=\"checkbox\" checked><label for=\"sk-estimator-id-1\" class=\"sk-toggleable__label sk-toggleable__label-arrow\">LinearRegression</label><div class=\"sk-toggleable__content\"><pre>LinearRegression()</pre></div></div></div></div></div>"
      ],
      "text/plain": [
       "LinearRegression()"
      ]
     },
     "execution_count": 21,
     "metadata": {},
     "output_type": "execute_result"
    }
   ],
   "source": [
    "from sklearn.linear_model import LinearRegression\n",
    "lr=LinearRegression()\n",
    "lr.fit(x_train,y_train)"
   ]
  },
  {
   "cell_type": "markdown",
   "metadata": {
    "id": "qp1VpG6zBjAM"
   },
   "source": [
    "The coefficient intersection, which implies y=mx+c, c=intercept, is used to determine whether our training model has a linear relationship with the dependent and independent variables. As a result, we will employ the formula to examine its linear connection."
   ]
  },
  {
   "cell_type": "code",
   "execution_count": 22,
   "metadata": {
    "colab": {
     "base_uri": "https://localhost:8080/"
    },
    "id": "QDJ90xWQsRKw",
    "outputId": "d72d7a91-180a-4f3c-f068-56da9ca76c85"
   },
   "outputs": [
    {
     "data": {
      "text/plain": [
       "29.784674815026776"
      ]
     },
     "execution_count": 22,
     "metadata": {},
     "output_type": "execute_result"
    }
   ],
   "source": [
    "#Intercept:\n",
    "c=lr.intercept_\n",
    "c"
   ]
  },
  {
   "cell_type": "code",
   "execution_count": 23,
   "metadata": {
    "colab": {
     "base_uri": "https://localhost:8080/"
    },
    "id": "iN_XMCsUsozP",
    "outputId": "31619eec-fd9b-4f47-a353-15bb3760e930"
   },
   "outputs": [
    {
     "data": {
      "text/plain": [
       "array([2.03341781])"
      ]
     },
     "execution_count": 23,
     "metadata": {},
     "output_type": "execute_result"
    }
   ],
   "source": [
    "#Slope(Equation Prediction):\n",
    "m=lr.coef_\n",
    "m"
   ]
  },
  {
   "cell_type": "markdown",
   "metadata": {
    "id": "HUrsGciBGAFh"
   },
   "source": [
    "In the first code, we have put all the variables in our formula and in second we are printing the y_pred_train value. We are using .flatten() function to get a copy of an given array collapsed into one dimension."
   ]
  },
  {
   "cell_type": "code",
   "execution_count": 24,
   "metadata": {
    "colab": {
     "base_uri": "https://localhost:8080/"
    },
    "id": "dym8VK4PswPT",
    "outputId": "d646e224-25db-4214-86d7-8a2aadbf43c9"
   },
   "outputs": [
    {
     "data": {
      "text/plain": [
       "array([52.15227078, 44.01859952, 64.35277766, 58.25252422, 60.28594203,\n",
       "       50.11885296, 35.88492826, 44.01859952, 58.25252422, 54.18568859,\n",
       "       56.21910641, 31.81809263, 52.15227078, 58.25252422, 60.28594203,\n",
       "       52.15227078, 50.11885296, 60.28594203, 39.95176389, 48.08543515,\n",
       "       52.15227078, 35.88492826, 48.08543515, 50.11885296, 44.01859952,\n",
       "       31.81809263, 35.88492826, 44.01859952, 44.01859952, 33.85151044,\n",
       "       31.81809263, 60.28594203, 60.28594203, 50.11885296, 50.11885296,\n",
       "       48.08543515, 31.81809263, 37.91834607, 35.88492826, 46.05201733,\n",
       "       64.35277766, 35.88492826, 33.85151044, 64.35277766, 46.05201733,\n",
       "       44.01859952, 33.85151044, 54.18568859, 46.05201733, 39.95176389,\n",
       "       46.05201733, 41.9851817 , 41.9851817 , 31.81809263, 50.11885296,\n",
       "       64.35277766, 44.01859952, 46.05201733, 37.91834607, 64.35277766,\n",
       "       44.01859952, 64.35277766, 62.31935985, 44.01859952])"
      ]
     },
     "execution_count": 24,
     "metadata": {},
     "output_type": "execute_result"
    }
   ],
   "source": [
    "Y_pred_train=m*x_train + c\n",
    "Y_pred_train.flatten()"
   ]
  },
  {
   "cell_type": "markdown",
   "metadata": {
    "id": "nRsYGYNoLok2"
   },
   "source": [
    "lr.predict() is a function in Python that is used to make predictions on new data using a trained linear regression model. The function accepts a set of input features as an argument and returns the predicted output variable based on the learned relationship in the training data between the input features and the output variable."
   ]
  },
  {
   "cell_type": "code",
   "execution_count": 25,
   "metadata": {
    "colab": {
     "base_uri": "https://localhost:8080/"
    },
    "id": "O4jy-16UtLep",
    "outputId": "e9e5a7ec-42cc-4d76-a1ed-ca893a4659e9"
   },
   "outputs": [
    {
     "data": {
      "text/plain": [
       "array([52.15227078, 44.01859952, 64.35277766, 58.25252422, 60.28594203,\n",
       "       50.11885296, 35.88492826, 44.01859952, 58.25252422, 54.18568859,\n",
       "       56.21910641, 31.81809263, 52.15227078, 58.25252422, 60.28594203,\n",
       "       52.15227078, 50.11885296, 60.28594203, 39.95176389, 48.08543515,\n",
       "       52.15227078, 35.88492826, 48.08543515, 50.11885296, 44.01859952,\n",
       "       31.81809263, 35.88492826, 44.01859952, 44.01859952, 33.85151044,\n",
       "       31.81809263, 60.28594203, 60.28594203, 50.11885296, 50.11885296,\n",
       "       48.08543515, 31.81809263, 37.91834607, 35.88492826, 46.05201733,\n",
       "       64.35277766, 35.88492826, 33.85151044, 64.35277766, 46.05201733,\n",
       "       44.01859952, 33.85151044, 54.18568859, 46.05201733, 39.95176389,\n",
       "       46.05201733, 41.9851817 , 41.9851817 , 31.81809263, 50.11885296,\n",
       "       64.35277766, 44.01859952, 46.05201733, 37.91834607, 64.35277766,\n",
       "       44.01859952, 64.35277766, 62.31935985, 44.01859952])"
      ]
     },
     "execution_count": 25,
     "metadata": {},
     "output_type": "execute_result"
    }
   ],
   "source": [
    "Y_pred_train1=lr.predict(x_train)\n",
    "Y_pred_train1"
   ]
  },
  {
   "cell_type": "markdown",
   "metadata": {
    "id": "lPjxAhaaL8NL"
   },
   "source": [
    "To plot the training data on testing data performance, we will be using a scatter plot with the predicted values on the x-axis and the actual values on the y-axis. This will allow you to visually compare the predicted values with the actual values and see how well the model is performing on the testing data."
   ]
  },
  {
   "cell_type": "code",
   "execution_count": 26,
   "metadata": {
    "colab": {
     "base_uri": "https://localhost:8080/",
     "height": 489
    },
    "id": "Ju2XY1RqtgAz",
    "outputId": "91f91e7b-22be-4afe-d24a-bfcc5c568344"
   },
   "outputs": [
    {
     "data": {
      "text/plain": [
       "Text(0, 0.5, 'height')"
      ]
     },
     "execution_count": 26,
     "metadata": {},
     "output_type": "execute_result"
    },
    {
     "data": {
      "image/png": "[encoded data removed]",
      "text/plain": [
       "<Figure size 640x480 with 1 Axes>"
      ]
     },
     "metadata": {},
     "output_type": "display_data"
    }
   ],
   "source": [
    "#Performance of Testing Model on our Training Model:\n",
    "import matplotlib.pyplot as plt\n",
    "plt.scatter(x_train,y_train)\n",
    "plt.plot(x_train,Y_pred_train1,color=\"red\")\n",
    "plt.xlabel(\"age\")\n",
    "plt.ylabel(\"height\")"
   ]
  },
  {
   "cell_type": "markdown",
   "metadata": {
    "id": "agXGT-GiMkC1"
   },
   "source": [
    "The code below is a way to fit a linear regression model using the OLS method and to check the statistical properties like  R-squared, coefficients, standard errors, and p-values, which can be used to evaluate the goodness of fit of the model.The R-squared value in a regression model is a statistical measure of how well the model fits the observed data. It represents the proportion of the variance in the target variable (in this case, child's height) that is explained by the input features (in this case, child's age).\n",
    "\n",
    "In the code we have got the R-squared value as 0.962. This means that approximately 96.2% of the variance in the child's height can be explained by their age. In other words, the model is able to accurately predict the child's height based on their age about 96.2% of the time. This is a high level of accuracy, indicating that the model is performing well in its predictions.Also, Linear Regression model doesn't have many parameters, hence we are using OLS."
   ]
  },
  {
   "cell_type": "code",
   "execution_count": 27,
   "metadata": {
    "colab": {
     "base_uri": "https://localhost:8080/"
    },
    "id": "a3SB3K86Jrmi",
    "outputId": "ee2b4eb8-9300-4634-aba8-4f3d9531c93d"
   },
   "outputs": [
    {
     "name": "stdout",
     "output_type": "stream",
     "text": [
      "                            OLS Regression Results                            \n",
      "==============================================================================\n",
      "Dep. Variable:       Height in inches   R-squared:                       0.962\n",
      "Model:                            OLS   Adj. R-squared:                  0.961\n",
      "Method:                 Least Squares   F-statistic:                     1562.\n",
      "Date:                Tue, 15 Aug 2023   Prob (F-statistic):           1.11e-45\n",
      "Time:                        21:12:34   Log-Likelihood:                -134.53\n",
      "No. Observations:                  64   AIC:                             273.1\n",
      "Df Residuals:                      62   BIC:                             277.4\n",
      "Df Model:                           1                                         \n",
      "Covariance Type:            nonrobust                                         \n",
      "==============================================================================\n",
      "                 coef    std err          t      P>|t|      [0.025      0.975]\n",
      "------------------------------------------------------------------------------\n",
      "const         29.7847      0.517     57.606      0.000      28.751      30.818\n",
      "x1             2.0334      0.051     39.524      0.000       1.931       2.136\n",
      "==============================================================================\n",
      "Omnibus:                        8.912   Durbin-Watson:                   1.652\n",
      "Prob(Omnibus):                  0.012   Jarque-Bera (JB):               10.662\n",
      "Skew:                          -0.569   Prob(JB):                      0.00484\n",
      "Kurtosis:                       4.645   Cond. No.                         20.8\n",
      "==============================================================================\n",
      "\n",
      "Notes:\n",
      "[1] Standard Errors assume that the covariance matrix of the errors is correctly specified.\n"
     ]
    }
   ],
   "source": [
    "import statsmodels.api as sm\n",
    "x_train=sm.add_constant(x_train)\n",
    "model=sm.OLS(y_train,x_train).fit()\n",
    "print (model.summary())"
   ]
  },
  {
   "cell_type": "markdown",
   "metadata": {
    "id": "AYWSBbCTNH1V"
   },
   "source": [
    "We have a testing R-squared value of 0.922, this means that our linear regression model is able to explain approximately 92.2% of the variance in the child's height based on their age in the testing dataset.\n",
    "\n",
    "An R-squared value of 0.922 suggests that our model is performing well in its predictions on the testing dataset."
   ]
  },
  {
   "cell_type": "code",
   "execution_count": 28,
   "metadata": {
    "colab": {
     "base_uri": "https://localhost:8080/"
    },
    "id": "OEjZZzs0TUUl",
    "outputId": "a5d7e2e9-42f3-4852-c8d3-bcddef41d5d1"
   },
   "outputs": [
    {
     "name": "stdout",
     "output_type": "stream",
     "text": [
      "                            OLS Regression Results                            \n",
      "==============================================================================\n",
      "Dep. Variable:       Height in inches   R-squared:                       0.922\n",
      "Model:                            OLS   Adj. R-squared:                  0.919\n",
      "Method:                 Least Squares   F-statistic:                     308.3\n",
      "Date:                Tue, 15 Aug 2023   Prob (F-statistic):           6.14e-16\n",
      "Time:                        21:12:35   Log-Likelihood:                -67.620\n",
      "No. Observations:                  28   AIC:                             139.2\n",
      "Df Residuals:                      26   BIC:                             141.9\n",
      "Df Model:                           1                                         \n",
      "Covariance Type:            nonrobust                                         \n",
      "==============================================================================\n",
      "                 coef    std err          t      P>|t|      [0.025      0.975]\n",
      "------------------------------------------------------------------------------\n",
      "const         29.9033      1.086     27.535      0.000      27.671      32.136\n",
      "x1             1.9486      0.111     17.557      0.000       1.720       2.177\n",
      "==============================================================================\n",
      "Omnibus:                        1.328   Durbin-Watson:                   1.751\n",
      "Prob(Omnibus):                  0.515   Jarque-Bera (JB):                1.020\n",
      "Skew:                           0.455   Prob(JB):                        0.600\n",
      "Kurtosis:                       2.784   Cond. No.                         20.2\n",
      "==============================================================================\n",
      "\n",
      "Notes:\n",
      "[1] Standard Errors assume that the covariance matrix of the errors is correctly specified.\n"
     ]
    }
   ],
   "source": [
    "import statsmodels.api as sm\n",
    "x_test=sm.add_constant(x_test)\n",
    "model=sm.OLS(y_test,x_test).fit()\n",
    "print (model.summary())"
   ]
  },
  {
   "cell_type": "markdown",
   "metadata": {},
   "source": [
    "Thankyou for watching!"
   ]
  }
 ],
 "metadata": {
  "colab": {
   "provenance": []
  },
  "kernelspec": {
   "display_name": "Python 3 (ipykernel)",
   "language": "python",
   "name": "python3"
  },
  "language_info": {
   "codemirror_mode": {
    "name": "ipython",
    "version": 3
   },
   "file_extension": ".py",
   "mimetype": "text/x-python",
   "name": "python",
   "nbconvert_exporter": "python",
   "pygments_lexer": "ipython3",
   "version": "3.10.9"
  }
 },
 "nbformat": 4,
 "nbformat_minor": 1
}
